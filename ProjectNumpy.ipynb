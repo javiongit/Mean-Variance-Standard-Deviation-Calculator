{
 "cells": [
  {
   "cell_type": "code",
   "execution_count": 55,
   "id": "5d2d66cb",
   "metadata": {},
   "outputs": [
    {
     "name": "stdout",
     "output_type": "stream",
     "text": [
      "{'mean': [[3.0, 4.0, 5.0], [1.0, 4.0, 7.0], 4.0], 'variance': [[6.0, 6.0, 6.0], [0.6666666666666666, 0.6666666666666666, 0.6666666666666666], 6.666666666666667], 'standard deviation': [[2.449489742783178, 2.449489742783178, 2.449489742783178], [0.816496580927726, 0.816496580927726, 0.816496580927726], 2.581988897471611], 'max': [[6, 7, 8], [2, 5, 8], 8], 'min': [[0, 1, 2], [0, 3, 6], 0], 'sum': [[9, 12, 15], [3, 12, 21], 36]}\n"
     ]
    }
   ],
   "source": [
    "import numpy as np\n",
    "def calculate(list):\n",
    "    \n",
    "    a=np.array(list)\n",
    "    if a.size!=9:\n",
    "        raise ValueError('List must contain nine numbers.')\n",
    "    else:\n",
    "        b=a.reshape(3,3)\n",
    "\n",
    "        m=[np.ndarray.tolist(b.mean(axis=0)),np.ndarray.tolist(b.mean(axis=1))]\n",
    "        v=[np.ndarray.tolist(b.var(axis=0)),np.ndarray.tolist(b.var(axis=1))]\n",
    "        s=[np.ndarray.tolist(b.std(axis=0)),np.ndarray.tolist(b.std(axis=1))]\n",
    "        ma=[np.ndarray.tolist(b.max(axis=0)),np.ndarray.tolist(b.max(axis=1))]\n",
    "        mi=[np.ndarray.tolist(b.min(axis=0)),np.ndarray.tolist(b.min(axis=1))]\n",
    "        su=[np.ndarray.tolist(b.sum(axis=0)),np.ndarray.tolist(b.sum(axis=1))]\n",
    "\n",
    "        calculations={'mean':[m[0],m[1],b.mean()],'variance':[v[0],v[1],b.var()],'standard deviation':[s[0],s[1],b.std()],\n",
    "                      'max':[ma[0],ma[1],b.max()],'min':[mi[0],mi[1],b.min()],'sum':[su[0],su[1],b.sum()]}\n",
    "    return calculations\n",
    "\n",
    "print(calculate([0,1,2,3,4,5,6,7,8]))\n"
   ]
  },
  {
   "cell_type": "code",
   "execution_count": null,
   "id": "cfb6437b",
   "metadata": {},
   "outputs": [],
   "source": []
  },
  {
   "cell_type": "code",
   "execution_count": null,
   "id": "b706c2d7",
   "metadata": {},
   "outputs": [],
   "source": []
  }
 ],
 "metadata": {
  "kernelspec": {
   "display_name": "Python 3 (ipykernel)",
   "language": "python",
   "name": "python3"
  },
  "language_info": {
   "codemirror_mode": {
    "name": "ipython",
    "version": 3
   },
   "file_extension": ".py",
   "mimetype": "text/x-python",
   "name": "python",
   "nbconvert_exporter": "python",
   "pygments_lexer": "ipython3",
   "version": "3.9.7"
  }
 },
 "nbformat": 4,
 "nbformat_minor": 5
}
